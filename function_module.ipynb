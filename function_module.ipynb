{
 "cells": [
  {
   "cell_type": "markdown",
   "id": "3a73a5bf",
   "metadata": {},
   "source": [
    "## 함수"
   ]
  },
  {
   "cell_type": "markdown",
   "id": "f01b0366",
   "metadata": {},
   "source": [
    "### 함수 사용 예"
   ]
  },
  {
   "cell_type": "code",
   "execution_count": 1,
   "id": "067827e8",
   "metadata": {},
   "outputs": [
    {
     "data": {
      "text/plain": [
       "float"
      ]
     },
     "execution_count": 1,
     "metadata": {},
     "output_type": "execute_result"
    }
   ],
   "source": [
    "num = float('3.14')\n",
    "type(num)"
   ]
  },
  {
   "cell_type": "code",
   "execution_count": 2,
   "id": "19d3d482",
   "metadata": {},
   "outputs": [
    {
     "name": "stdout",
     "output_type": "stream",
     "text": [
      "키 정보 cm 단위 입력: 170\n",
      "170\n"
     ]
    }
   ],
   "source": [
    "height = int(input('키 정보 cm 단위 입력: '))\n",
    "print(height)"
   ]
  },
  {
   "cell_type": "code",
   "execution_count": 3,
   "id": "8091fddd",
   "metadata": {},
   "outputs": [
    {
     "data": {
      "text/plain": [
       "[1, 3]"
      ]
     },
     "execution_count": 3,
     "metadata": {},
     "output_type": "execute_result"
    }
   ],
   "source": [
    "st = [1, 2, 3]\n",
    "st.remove(2)\n",
    "st"
   ]
  },
  {
   "cell_type": "markdown",
   "id": "17a2f616",
   "metadata": {},
   "source": [
    "### 함수 정의와 호출"
   ]
  },
  {
   "cell_type": "code",
   "execution_count": 4,
   "id": "c3b7c3ef",
   "metadata": {},
   "outputs": [],
   "source": [
    "def greet():\n",
    "    print('반갑습니다.')\n",
    "    print('파이썬의 세계로 오신 것을 환영합니다.')"
   ]
  },
  {
   "cell_type": "code",
   "execution_count": 5,
   "id": "71be60b2",
   "metadata": {},
   "outputs": [
    {
     "name": "stdout",
     "output_type": "stream",
     "text": [
      "반갑습니다.\n",
      "파이썬의 세계로 오신 것을 환영합니다.\n"
     ]
    }
   ],
   "source": [
    "greet()"
   ]
  },
  {
   "cell_type": "code",
   "execution_count": 6,
   "id": "c0682cbc",
   "metadata": {},
   "outputs": [
    {
     "name": "stdout",
     "output_type": "stream",
     "text": [
      "반갑습니다.\n",
      "파이썬의 세계로 오신 것을 환영합니다.\n"
     ]
    }
   ],
   "source": [
    "greet()"
   ]
  },
  {
   "cell_type": "markdown",
   "id": "66b453ce",
   "metadata": {},
   "source": [
    "### 함수의 입력과 출력"
   ]
  },
  {
   "cell_type": "code",
   "execution_count": 7,
   "id": "f0cb5add",
   "metadata": {},
   "outputs": [],
   "source": [
    "def greet2(name):\n",
    "    print('반갑습니다.', name)\n",
    "    print(name, '님은 파이썬 세계로 오셨습니다.')"
   ]
  },
  {
   "cell_type": "code",
   "execution_count": 8,
   "id": "7b0ccfb8",
   "metadata": {},
   "outputs": [
    {
     "name": "stdout",
     "output_type": "stream",
     "text": [
      "반갑습니다. taejun\n",
      "taejun 님은 파이썬 세계로 오셨습니다.\n"
     ]
    }
   ],
   "source": [
    "greet2('taejun')"
   ]
  },
  {
   "cell_type": "code",
   "execution_count": 9,
   "id": "3f82a8a5",
   "metadata": {},
   "outputs": [
    {
     "name": "stdout",
     "output_type": "stream",
     "text": [
      "반갑습니다. 철수\n",
      "철수 님은 파이썬 세계로 오셨습니다.\n"
     ]
    }
   ],
   "source": [
    "greet2('철수')"
   ]
  },
  {
   "cell_type": "code",
   "execution_count": 10,
   "id": "cc49f7e3",
   "metadata": {},
   "outputs": [],
   "source": [
    "def adder2(num1, num2):\n",
    "    ar = num1 + num2\n",
    "    return ar"
   ]
  },
  {
   "cell_type": "code",
   "execution_count": 11,
   "id": "6cc18961",
   "metadata": {
    "scrolled": true
   },
   "outputs": [
    {
     "name": "stdout",
     "output_type": "stream",
     "text": [
      "5\n"
     ]
    }
   ],
   "source": [
    "result = adder2(2, 3)\n",
    "print(result)"
   ]
  },
  {
   "cell_type": "code",
   "execution_count": 12,
   "id": "34b81adf",
   "metadata": {},
   "outputs": [
    {
     "name": "stdout",
     "output_type": "stream",
     "text": [
      "8\n"
     ]
    }
   ],
   "source": [
    "def adder3(num1, num2):\n",
    "    return num1 + num2\n",
    "\n",
    "print(adder3(5, 3))"
   ]
  },
  {
   "cell_type": "markdown",
   "id": "9488dc50",
   "metadata": {},
   "source": [
    "### 함수 입력 (조금 더)"
   ]
  },
  {
   "cell_type": "code",
   "execution_count": 13,
   "id": "842b97bb",
   "metadata": {},
   "outputs": [
    {
     "name": "stdout",
     "output_type": "stream",
     "text": [
      "1 3 5 7 9 "
     ]
    }
   ],
   "source": [
    "for i in (1, 3, 5, 7, 9):\n",
    "    print(i, end=' ')"
   ]
  },
  {
   "cell_type": "code",
   "execution_count": 14,
   "id": "6be2e071",
   "metadata": {},
   "outputs": [
    {
     "name": "stdout",
     "output_type": "stream",
     "text": [
      "1#2#3#4\n"
     ]
    }
   ],
   "source": [
    "print(1, 2, 3, 4, sep='#')"
   ]
  },
  {
   "cell_type": "code",
   "execution_count": 15,
   "id": "7e16a34f",
   "metadata": {},
   "outputs": [],
   "source": [
    "def who_are_you(name, age):\n",
    "    print(\"이름:\", name)\n",
    "    print(\"나이:\", age)"
   ]
  },
  {
   "cell_type": "code",
   "execution_count": 16,
   "id": "49afa83b",
   "metadata": {},
   "outputs": [
    {
     "name": "stdout",
     "output_type": "stream",
     "text": [
      "이름: 이태준\n",
      "나이: 25\n"
     ]
    }
   ],
   "source": [
    "who_are_you(name=\"이태준\", age=25)"
   ]
  },
  {
   "cell_type": "code",
   "execution_count": 17,
   "id": "705dd634",
   "metadata": {},
   "outputs": [
    {
     "name": "stdout",
     "output_type": "stream",
     "text": [
      "이름: 이태준\n",
      "나이: 25\n"
     ]
    }
   ],
   "source": [
    "who_are_you(age=25, name=\"이태준\")"
   ]
  },
  {
   "cell_type": "code",
   "execution_count": 18,
   "id": "aa2c290e",
   "metadata": {},
   "outputs": [],
   "source": [
    "def who_are_you(name, age=0):\n",
    "    print(\"이름:\", name)\n",
    "    print(\"나이:\", age)"
   ]
  },
  {
   "cell_type": "code",
   "execution_count": 19,
   "id": "d6c4d4c2",
   "metadata": {},
   "outputs": [
    {
     "name": "stdout",
     "output_type": "stream",
     "text": [
      "이름: James\n",
      "나이: 0\n"
     ]
    }
   ],
   "source": [
    "who_are_you('James')"
   ]
  },
  {
   "cell_type": "code",
   "execution_count": 20,
   "id": "e737b80b",
   "metadata": {},
   "outputs": [
    {
     "name": "stdout",
     "output_type": "stream",
     "text": [
      "이름: James\n",
      "나이: 30\n"
     ]
    }
   ],
   "source": [
    "who_are_you('James', 30)"
   ]
  },
  {
   "cell_type": "code",
   "execution_count": 21,
   "id": "0cda09e6",
   "metadata": {},
   "outputs": [
    {
     "ename": "SyntaxError",
     "evalue": "non-default argument follows default argument (2137308535.py, line 1)",
     "output_type": "error",
     "traceback": [
      "\u001b[1;36m  Input \u001b[1;32mIn [21]\u001b[1;36m\u001b[0m\n\u001b[1;33m    def who_are_you(age=0, name):\u001b[0m\n\u001b[1;37m                               ^\u001b[0m\n\u001b[1;31mSyntaxError\u001b[0m\u001b[1;31m:\u001b[0m non-default argument follows default argument\n"
     ]
    }
   ],
   "source": [
    "def who_are_you(age=0, name):\n",
    "    print(\"이름:\", name)\n",
    "    print(\"나이:\", age)"
   ]
  },
  {
   "cell_type": "code",
   "execution_count": 22,
   "id": "97cf746b",
   "metadata": {},
   "outputs": [],
   "source": [
    "def func(s):   # 전달되는 값을 리스트라고 가정\n",
    "    s[0] = 0   # 리스트의 첫번째 값을 0으로 수정\n",
    "    s[-1] = 0  # 리스트의 마지막 값을 0으로 수정"
   ]
  },
  {
   "cell_type": "code",
   "execution_count": 23,
   "id": "531a2ecd",
   "metadata": {},
   "outputs": [],
   "source": [
    "st = [1, 2, 3]\n",
    "func(st)"
   ]
  },
  {
   "cell_type": "code",
   "execution_count": 24,
   "id": "11a0f0cb",
   "metadata": {},
   "outputs": [
    {
     "data": {
      "text/plain": [
       "[0, 2, 0]"
      ]
     },
     "execution_count": 24,
     "metadata": {},
     "output_type": "execute_result"
    }
   ],
   "source": [
    "st"
   ]
  },
  {
   "cell_type": "markdown",
   "id": "c7238ada",
   "metadata": {},
   "source": [
    "### 모듈 만들기/가져오기"
   ]
  },
  {
   "cell_type": "code",
   "execution_count": 25,
   "id": "1c77cd0b",
   "metadata": {},
   "outputs": [
    {
     "name": "stdout",
     "output_type": "stream",
     "text": [
      "반지름 입력: 5.5\n",
      "넓이: 94.985\n",
      "둘레: 34.54\n"
     ]
    }
   ],
   "source": [
    "import circle # circle.py와 이 ipynb(노트북파일)은 같은 폴더에 있어야 함\n",
    "# .py는 생략하고 소스파일의 이름만 사용\n",
    "\n",
    "r = float(input(\"반지름 입력: \"))\n",
    "ar = circle.ar_circle(r)   # circle.py의 ar_circle 함수 호출\n",
    "print(\"넓이:\", ar)\n",
    "ci = circle.ci_circle(r)   # circle.py의 ci_circle 함수 호출 \n",
    "print(\"둘레:\", ci)"
   ]
  },
  {
   "cell_type": "code",
   "execution_count": 26,
   "id": "003dac21",
   "metadata": {},
   "outputs": [
    {
     "name": "stdout",
     "output_type": "stream",
     "text": [
      "반지름 입력: 5.5\n",
      "넓이: 94.985\n",
      "둘레: 34.54\n"
     ]
    }
   ],
   "source": [
    "from circle import ar_circle\n",
    "from circle import ci_circle\n",
    "\n",
    "r = float(input(\"반지름 입력: \"))\n",
    "ar = ar_circle(r)   # circle.py의 ar_circle 함수 호출\n",
    "print(\"넓이:\", ar)\n",
    "ci = ci_circle(r)   # circle.py의 ci_circle 함수 호출\n",
    "print(\"둘레:\", ci)"
   ]
  },
  {
   "cell_type": "code",
   "execution_count": 27,
   "id": "06b69912",
   "metadata": {},
   "outputs": [
    {
     "name": "stdout",
     "output_type": "stream",
     "text": [
      "반지름 입력: 5.5\n",
      "나야~\n",
      "둘레:  34.54\n",
      "나야~\n",
      "둘레:  34.54\n"
     ]
    }
   ],
   "source": [
    "from circle import ci_circle \n",
    "\n",
    "def ci_circle(rad):\n",
    "    print('나야~')\n",
    "    print(\"둘레: \", rad * 2 * 3.14)\n",
    "\n",
    "r = float(input(\"반지름 입력: \"))\n",
    "ci_circle(r)    # ? ? ? \n",
    "ci_circle(r)    # ? ? ?\n",
    "#. . ."
   ]
  },
  {
   "cell_type": "code",
   "execution_count": 28,
   "id": "48321c4a",
   "metadata": {},
   "outputs": [
    {
     "name": "stdout",
     "output_type": "stream",
     "text": [
      "반지름 입력: 5.5\n",
      "나야~\n",
      "둘레:  34.54\n"
     ]
    },
    {
     "data": {
      "text/plain": [
       "34.54"
      ]
     },
     "execution_count": 28,
     "metadata": {},
     "output_type": "execute_result"
    }
   ],
   "source": [
    "from circle import ci_circle  as cc\n",
    "\n",
    "def ci_circle(rad):\n",
    "    print('나야~')\n",
    "    print(\"둘레: \", rad * 2 * 3.14)\n",
    "\n",
    "r = float(input(\"반지름 입력: \"))\n",
    "ci_circle(r)\n",
    "cc(r)"
   ]
  },
  {
   "cell_type": "code",
   "execution_count": 29,
   "id": "9acae602",
   "metadata": {},
   "outputs": [
    {
     "name": "stdout",
     "output_type": "stream",
     "text": [
      "반지름 입력: 5.5\n",
      "94.985\n"
     ]
    }
   ],
   "source": [
    "import circle as cc\n",
    "\n",
    "r = float(input(\"반지름 입력: \"))\n",
    "ar = cc.ar_circle(r)\n",
    "print(ar)"
   ]
  },
  {
   "cell_type": "code",
   "execution_count": 30,
   "id": "e464059d",
   "metadata": {},
   "outputs": [
    {
     "data": {
      "text/plain": [
       "10.0"
      ]
     },
     "execution_count": 30,
     "metadata": {},
     "output_type": "execute_result"
    }
   ],
   "source": [
    "import math\n",
    "math.fabs(-10)"
   ]
  }
 ],
 "metadata": {
  "kernelspec": {
   "display_name": "Python 3 (ipykernel)",
   "language": "python",
   "name": "python3"
  },
  "language_info": {
   "codemirror_mode": {
    "name": "ipython",
    "version": 3
   },
   "file_extension": ".py",
   "mimetype": "text/x-python",
   "name": "python",
   "nbconvert_exporter": "python",
   "pygments_lexer": "ipython3",
   "version": "3.9.12"
  }
 },
 "nbformat": 4,
 "nbformat_minor": 5
}
