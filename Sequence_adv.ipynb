{
 "cells": [
  {
   "cell_type": "markdown",
   "id": "e09136fd",
   "metadata": {},
   "source": [
    "### 시퀀스 타입"
   ]
  },
  {
   "cell_type": "code",
   "execution_count": 1,
   "id": "c1a37a2e",
   "metadata": {},
   "outputs": [
    {
     "data": {
      "text/plain": [
       "[1, 2, 3, 4]"
      ]
     },
     "execution_count": 1,
     "metadata": {},
     "output_type": "execute_result"
    }
   ],
   "source": [
    "[1, 2] + [3, 4]"
   ]
  },
  {
   "cell_type": "code",
   "execution_count": 2,
   "id": "f24905da",
   "metadata": {},
   "outputs": [
    {
     "data": {
      "text/plain": [
       "'Hello Mr. My Yesterday'"
      ]
     },
     "execution_count": 2,
     "metadata": {},
     "output_type": "execute_result"
    }
   ],
   "source": [
    "\"Hello\" + \" Mr. My Yesterday\""
   ]
  },
  {
   "cell_type": "code",
   "execution_count": 3,
   "id": "324b5bfc",
   "metadata": {},
   "outputs": [
    {
     "data": {
      "text/plain": [
       "3"
      ]
     },
     "execution_count": 3,
     "metadata": {},
     "output_type": "execute_result"
    }
   ],
   "source": [
    "st = [1, 2, 3, 4, 5]\n",
    "st[2]"
   ]
  },
  {
   "cell_type": "code",
   "execution_count": 4,
   "id": "86f7e80b",
   "metadata": {},
   "outputs": [
    {
     "data": {
      "text/plain": [
       "'M'"
      ]
     },
     "execution_count": 4,
     "metadata": {},
     "output_type": "execute_result"
    }
   ],
   "source": [
    "str = \"SIMPLE\"\n",
    "str[2]"
   ]
  },
  {
   "cell_type": "markdown",
   "id": "ccb8ff88",
   "metadata": {},
   "source": [
    "#### 복합 대입 연산자"
   ]
  },
  {
   "cell_type": "markdown",
   "id": "17651df7",
   "metadata": {},
   "source": [
    "a = a + b -> a += b\n",
    "a = a - b -> a -= b\n",
    "a = a * b -> a *= b\n",
    "..."
   ]
  },
  {
   "cell_type": "code",
   "execution_count": 5,
   "id": "0d6b283f",
   "metadata": {},
   "outputs": [
    {
     "name": "stdout",
     "output_type": "stream",
     "text": [
      "6\n"
     ]
    }
   ],
   "source": [
    "a = 3\n",
    "a = a + 3\n",
    "print(a)"
   ]
  },
  {
   "cell_type": "code",
   "execution_count": 6,
   "id": "1fee7e08",
   "metadata": {},
   "outputs": [
    {
     "name": "stdout",
     "output_type": "stream",
     "text": [
      "6\n"
     ]
    }
   ],
   "source": [
    "a = 3\n",
    "a += 3\n",
    "print(a)"
   ]
  },
  {
   "cell_type": "code",
   "execution_count": 7,
   "id": "12311587",
   "metadata": {},
   "outputs": [
    {
     "data": {
      "text/plain": [
       "[3, 4, 5]"
      ]
     },
     "execution_count": 7,
     "metadata": {},
     "output_type": "execute_result"
    }
   ],
   "source": [
    "st = [1, 2, 3, 4, 5, 6, 7]\n",
    "st[2:5]"
   ]
  },
  {
   "cell_type": "code",
   "execution_count": 8,
   "id": "48436157",
   "metadata": {},
   "outputs": [
    {
     "data": {
      "text/plain": [
       "'MPL'"
      ]
     },
     "execution_count": 8,
     "metadata": {},
     "output_type": "execute_result"
    }
   ],
   "source": [
    "str = \"SIMPLEST\"\n",
    "str[2:5]"
   ]
  },
  {
   "cell_type": "code",
   "execution_count": 9,
   "id": "090efbb3",
   "metadata": {},
   "outputs": [
    {
     "data": {
      "text/plain": [
       "[10, 2, 3]"
      ]
     },
     "execution_count": 9,
     "metadata": {},
     "output_type": "execute_result"
    }
   ],
   "source": [
    "st = [1, 2, 3]\n",
    "st[0] = 10\n",
    "st"
   ]
  },
  {
   "cell_type": "code",
   "execution_count": 10,
   "id": "7e8a1f54",
   "metadata": {},
   "outputs": [
    {
     "ename": "TypeError",
     "evalue": "'str' object does not support item assignment",
     "output_type": "error",
     "traceback": [
      "\u001b[1;31m---------------------------------------------------------------------------\u001b[0m",
      "\u001b[1;31mTypeError\u001b[0m                                 Traceback (most recent call last)",
      "Input \u001b[1;32mIn [10]\u001b[0m, in \u001b[0;36m<cell line: 2>\u001b[1;34m()\u001b[0m\n\u001b[0;32m      1\u001b[0m \u001b[38;5;28mstr\u001b[39m \u001b[38;5;241m=\u001b[39m \u001b[38;5;124m\"\u001b[39m\u001b[38;5;124mhappy\u001b[39m\u001b[38;5;124m\"\u001b[39m\n\u001b[1;32m----> 2\u001b[0m \u001b[38;5;28mstr\u001b[39m[\u001b[38;5;241m0\u001b[39m] \u001b[38;5;241m=\u001b[39m \u001b[38;5;124m\"\u001b[39m\u001b[38;5;124mZ\u001b[39m\u001b[38;5;124m\"\u001b[39m\n\u001b[0;32m      3\u001b[0m \u001b[38;5;28mstr\u001b[39m\n",
      "\u001b[1;31mTypeError\u001b[0m: 'str' object does not support item assignment"
     ]
    }
   ],
   "source": [
    "str = \"happy\"\n",
    "str[0] = \"Z\"\n",
    "str"
   ]
  },
  {
   "cell_type": "code",
   "execution_count": 11,
   "id": "cd7b7159",
   "metadata": {},
   "outputs": [
    {
     "data": {
      "text/plain": [
       "3"
      ]
     },
     "execution_count": 11,
     "metadata": {},
     "output_type": "execute_result"
    }
   ],
   "source": [
    "st = [1, 2, 3]\n",
    "len(st)"
   ]
  },
  {
   "cell_type": "code",
   "execution_count": 12,
   "id": "ef960602",
   "metadata": {},
   "outputs": [
    {
     "data": {
      "text/plain": [
       "7"
      ]
     },
     "execution_count": 12,
     "metadata": {},
     "output_type": "execute_result"
    }
   ],
   "source": [
    "st = \"HaHaHa~\"\n",
    "len(st)"
   ]
  },
  {
   "cell_type": "code",
   "execution_count": 13,
   "id": "9f13fefd",
   "metadata": {},
   "outputs": [
    {
     "data": {
      "text/plain": [
       "4"
      ]
     },
     "execution_count": 13,
     "metadata": {},
     "output_type": "execute_result"
    }
   ],
   "source": [
    "st = (1, 2, 3, 4)\n",
    "len(st)"
   ]
  },
  {
   "cell_type": "code",
   "execution_count": 14,
   "id": "b728f8d7",
   "metadata": {},
   "outputs": [
    {
     "data": {
      "text/plain": [
       "2"
      ]
     },
     "execution_count": 14,
     "metadata": {},
     "output_type": "execute_result"
    }
   ],
   "source": [
    "st = [2, 5, 3, 7, 4]\n",
    "min(st)"
   ]
  },
  {
   "cell_type": "code",
   "execution_count": 15,
   "id": "117c3d73",
   "metadata": {},
   "outputs": [
    {
     "data": {
      "text/plain": [
       "7"
      ]
     },
     "execution_count": 15,
     "metadata": {},
     "output_type": "execute_result"
    }
   ],
   "source": [
    "max(st)"
   ]
  },
  {
   "cell_type": "code",
   "execution_count": 16,
   "id": "28e50365",
   "metadata": {},
   "outputs": [
    {
     "data": {
      "text/plain": [
       "[1, 3]"
      ]
     },
     "execution_count": 16,
     "metadata": {},
     "output_type": "execute_result"
    }
   ],
   "source": [
    "st = [1, 2, 3]\n",
    "st.remove(2)       # 리스트에서 2를 찾아서 삭제\n",
    "st"
   ]
  },
  {
   "cell_type": "code",
   "execution_count": 17,
   "id": "837dd092",
   "metadata": {},
   "outputs": [
    {
     "data": {
      "text/plain": [
       "[1, 2, 3, 4]"
      ]
     },
     "execution_count": 17,
     "metadata": {},
     "output_type": "execute_result"
    }
   ],
   "source": [
    "st = [1, 2, 3]\n",
    "st.append(4)     # st의 끝에 4 추가\n",
    "st"
   ]
  },
  {
   "cell_type": "code",
   "execution_count": 18,
   "id": "c1f41182",
   "metadata": {},
   "outputs": [
    {
     "data": {
      "text/plain": [
       "[1, 2, 3, 4, 5, 6]"
      ]
     },
     "execution_count": 18,
     "metadata": {},
     "output_type": "execute_result"
    }
   ],
   "source": [
    "st.extend([5, 6])     # st의 끝에 [5, 6]의 내용 추가\n",
    "st"
   ]
  },
  {
   "cell_type": "code",
   "execution_count": 19,
   "id": "fbd33c32",
   "metadata": {},
   "outputs": [
    {
     "data": {
      "text/plain": [
       "[1, 2, 3, 4]"
      ]
     },
     "execution_count": 19,
     "metadata": {},
     "output_type": "execute_result"
    }
   ],
   "source": [
    "st = [1, 2, 4]\n",
    "st.insert(2, 3)     # 인덱스 값 2의 위치에 3 저장\n",
    "st"
   ]
  },
  {
   "cell_type": "code",
   "execution_count": 20,
   "id": "d1cc98db",
   "metadata": {},
   "outputs": [
    {
     "data": {
      "text/plain": [
       "[]"
      ]
     },
     "execution_count": 20,
     "metadata": {},
     "output_type": "execute_result"
    }
   ],
   "source": [
    "st.clear()     # 리스트 내용 전부 삭제\n",
    "st"
   ]
  },
  {
   "cell_type": "code",
   "execution_count": 21,
   "id": "4565edf7",
   "metadata": {},
   "outputs": [
    {
     "data": {
      "text/plain": [
       "[1]"
      ]
     },
     "execution_count": 21,
     "metadata": {},
     "output_type": "execute_result"
    }
   ],
   "source": [
    "st = []      # 빈 리스트 생성\n",
    "st.append(1)      # 리스트에 1 추가\n",
    "st"
   ]
  },
  {
   "cell_type": "code",
   "execution_count": 22,
   "id": "6ec82747",
   "metadata": {},
   "outputs": [
    {
     "data": {
      "text/plain": [
       "[1, 9]"
      ]
     },
     "execution_count": 22,
     "metadata": {},
     "output_type": "execute_result"
    }
   ],
   "source": [
    "st.append(9)      # 리스트에 9 추가\n",
    "st"
   ]
  },
  {
   "cell_type": "code",
   "execution_count": 23,
   "id": "e7836362",
   "metadata": {},
   "outputs": [
    {
     "data": {
      "text/plain": [
       "1"
      ]
     },
     "execution_count": 23,
     "metadata": {},
     "output_type": "execute_result"
    }
   ],
   "source": [
    "st = [1, 2, 3, 4, 5]\n",
    "st.pop(0)     # 인덱스 값 0의 위치에 저장된 데이터 삭제"
   ]
  },
  {
   "cell_type": "code",
   "execution_count": 24,
   "id": "f746e32c",
   "metadata": {},
   "outputs": [
    {
     "data": {
      "text/plain": [
       "[2, 3, 4, 5]"
      ]
     },
     "execution_count": 24,
     "metadata": {},
     "output_type": "execute_result"
    }
   ],
   "source": [
    "st"
   ]
  },
  {
   "cell_type": "code",
   "execution_count": 25,
   "id": "a81d525c",
   "metadata": {},
   "outputs": [
    {
     "data": {
      "text/plain": [
       "[2, 3, 4]"
      ]
     },
     "execution_count": 25,
     "metadata": {},
     "output_type": "execute_result"
    }
   ],
   "source": [
    "st.remove(5)     # 리스트에서 5를 삭제\n",
    "st"
   ]
  },
  {
   "cell_type": "code",
   "execution_count": 26,
   "id": "a93cfc1a",
   "metadata": {},
   "outputs": [
    {
     "data": {
      "text/plain": [
       "2"
      ]
     },
     "execution_count": 26,
     "metadata": {},
     "output_type": "execute_result"
    }
   ],
   "source": [
    "st = [1, 2, 3, 1, 2]\n",
    "st.count(1)     # 1이 몇 번 등장하는지 세어라."
   ]
  },
  {
   "cell_type": "code",
   "execution_count": 27,
   "id": "98b4b0fe",
   "metadata": {},
   "outputs": [
    {
     "data": {
      "text/plain": [
       "1"
      ]
     },
     "execution_count": 27,
     "metadata": {},
     "output_type": "execute_result"
    }
   ],
   "source": [
    "st.index(2)     # 처음 2가 등장하는 위치의 인덱스 값은?"
   ]
  },
  {
   "cell_type": "code",
   "execution_count": 28,
   "id": "e05b33d3",
   "metadata": {},
   "outputs": [
    {
     "data": {
      "text/plain": [
       "4"
      ]
     },
     "execution_count": 28,
     "metadata": {},
     "output_type": "execute_result"
    }
   ],
   "source": [
    "str = \"YoonSungWoo\"\n",
    "str.count(\"o\")     # \"o\"가 몇 번 등장?"
   ]
  },
  {
   "cell_type": "code",
   "execution_count": 29,
   "id": "05a3f311",
   "metadata": {},
   "outputs": [
    {
     "data": {
      "text/plain": [
       "2"
      ]
     },
     "execution_count": 29,
     "metadata": {},
     "output_type": "execute_result"
    }
   ],
   "source": [
    "str.count(\"oo\")     # \"oo\"가 몇 번 등장?"
   ]
  },
  {
   "cell_type": "code",
   "execution_count": 30,
   "id": "959c1359",
   "metadata": {},
   "outputs": [
    {
     "data": {
      "text/plain": [
       "('yoon', 'YOON', 'Yoon')"
      ]
     },
     "execution_count": 30,
     "metadata": {},
     "output_type": "execute_result"
    }
   ],
   "source": [
    "org = \"Yoon\"\n",
    "lcp = org.lower()    # 모든 문자를 소문자로 바꿔서 반환\n",
    "ucp = org.upper()    # 모든 문자를 대문자로 바꿔서 반환\n",
    "lcp, ucp, org"
   ]
  },
  {
   "cell_type": "code",
   "execution_count": 31,
   "id": "edc72847",
   "metadata": {},
   "outputs": [
    {
     "data": {
      "text/plain": [
       "(' MIDDLE ', 'MIDDLE ', ' MIDDLE', 'MIDDLE')"
      ]
     },
     "execution_count": 31,
     "metadata": {},
     "output_type": "execute_result"
    }
   ],
   "source": [
    "org = \" MIDDLE \"\n",
    "cp1 = org.lstrip()    # 앞쪽에(왼쪽에) 있는 공백들 모두 제거\n",
    "cp2 = org.rstrip()    # 뒤쪽에(오른쪽에) 있는 공백들 모두 제거\n",
    "cp3 = org.strip()     # 앞과 뒤에 있는 공백들 모두 제거\n",
    "org, cp1, cp2, cp3"
   ]
  },
  {
   "cell_type": "code",
   "execution_count": 32,
   "id": "1298a590",
   "metadata": {},
   "outputs": [
    {
     "data": {
      "text/plain": [
       "'YeenSungWee'"
      ]
     },
     "execution_count": 32,
     "metadata": {},
     "output_type": "execute_result"
    }
   ],
   "source": [
    "org = \"YoonSungWoo\"\n",
    "rps = org.replace(\"oo\", \"ee\")     # \"oo\"를 전부 \"ee\"로 교체\n",
    "rps"
   ]
  },
  {
   "cell_type": "code",
   "execution_count": 33,
   "id": "6e22621e",
   "metadata": {},
   "outputs": [
    {
     "data": {
      "text/plain": [
       "'YeenSungWoo'"
      ]
     },
     "execution_count": 33,
     "metadata": {},
     "output_type": "execute_result"
    }
   ],
   "source": [
    "org = \"YoonSungWoo\"\n",
    "rps = org.replace(\"oo\", \"ee\", 1)   # 첫 번째 \"oo\"를 \"ee\"로 교체\n",
    "rps"
   ]
  },
  {
   "cell_type": "code",
   "execution_count": 34,
   "id": "c997e26c",
   "metadata": {},
   "outputs": [
    {
     "data": {
      "text/plain": [
       "['ab', 'cd', 'ef']"
      ]
     },
     "execution_count": 34,
     "metadata": {},
     "output_type": "execute_result"
    }
   ],
   "source": [
    "org = \"ab_cd_ef\"\n",
    "ret = org.split('_')    # '_' 기준으로 문자열 쪼개서 리스트에 담아!\n",
    "ret"
   ]
  },
  {
   "cell_type": "code",
   "execution_count": 35,
   "id": "67bf7abd",
   "metadata": {},
   "outputs": [
    {
     "data": {
      "text/plain": [
       "5"
      ]
     },
     "execution_count": 35,
     "metadata": {},
     "output_type": "execute_result"
    }
   ],
   "source": [
    "str = \"What is important is that you should choose what is best for you\"\n",
    "str.find(\"is\")     # \"is\"가 있는 위치의 인덱스 값은?"
   ]
  },
  {
   "cell_type": "code",
   "execution_count": 36,
   "id": "898620ed",
   "metadata": {},
   "outputs": [
    {
     "data": {
      "text/plain": [
       "49"
      ]
     },
     "execution_count": 36,
     "metadata": {},
     "output_type": "execute_result"
    }
   ],
   "source": [
    "str.rfind(\"is\")    # 마지막 \"is\"가 있는 위치의 인덱스 값은?"
   ]
  },
  {
   "cell_type": "code",
   "execution_count": 37,
   "id": "507ef1b8",
   "metadata": {},
   "outputs": [
    {
     "name": "stdout",
     "output_type": "stream",
     "text": [
      "escape\n",
      "characters\n"
     ]
    }
   ],
   "source": [
    "str = \"escape\\ncharacters\"\n",
    "print(str)"
   ]
  },
  {
   "cell_type": "code",
   "execution_count": 38,
   "id": "cce1fea1",
   "metadata": {
    "scrolled": true
   },
   "outputs": [
    {
     "name": "stdout",
     "output_type": "stream",
     "text": [
      "제가 마음속으로 그랬습니다. '이건 아니야.'라고 말이죠.\n"
     ]
    }
   ],
   "source": [
    "str = \"제가 마음속으로 그랬습니다. '이건 아니야.'라고 말이죠.\"\n",
    "print(str)"
   ]
  },
  {
   "cell_type": "code",
   "execution_count": 39,
   "id": "0596d121",
   "metadata": {},
   "outputs": [
    {
     "name": "stdout",
     "output_type": "stream",
     "text": [
      "제가 마음속으로 그랬습니다. '이건 아니야.'라고 말이죠.\n"
     ]
    }
   ],
   "source": [
    "str = '제가 마음속으로 그랬습니다. \\'이건 아니야.\\'라고 말이죠.'\n",
    "print(str)"
   ]
  }
 ],
 "metadata": {
  "kernelspec": {
   "display_name": "Python 3 (ipykernel)",
   "language": "python",
   "name": "python3"
  },
  "language_info": {
   "codemirror_mode": {
    "name": "ipython",
    "version": 3
   },
   "file_extension": ".py",
   "mimetype": "text/x-python",
   "name": "python",
   "nbconvert_exporter": "python",
   "pygments_lexer": "ipython3",
   "version": "3.9.12"
  }
 },
 "nbformat": 4,
 "nbformat_minor": 5
}
