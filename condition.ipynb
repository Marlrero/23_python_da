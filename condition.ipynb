{
 "cells": [
  {
   "cell_type": "markdown",
   "id": "fedc2090",
   "metadata": {},
   "source": [
    "### 조건문"
   ]
  },
  {
   "cell_type": "code",
   "execution_count": 1,
   "id": "2ed19f6a",
   "metadata": {},
   "outputs": [
    {
     "data": {
      "text/plain": [
       "(True, False)"
      ]
     },
     "execution_count": 1,
     "metadata": {},
     "output_type": "execute_result"
    }
   ],
   "source": [
    "True, False"
   ]
  },
  {
   "cell_type": "code",
   "execution_count": 2,
   "id": "ad137af3",
   "metadata": {},
   "outputs": [
    {
     "data": {
      "text/plain": [
       "False"
      ]
     },
     "execution_count": 2,
     "metadata": {},
     "output_type": "execute_result"
    }
   ],
   "source": [
    "3 > 10 # 3이 10보다 크니?"
   ]
  },
  {
   "cell_type": "code",
   "execution_count": 3,
   "id": "9cd36a41",
   "metadata": {
    "scrolled": true
   },
   "outputs": [
    {
     "data": {
      "text/plain": [
       "True"
      ]
     },
     "execution_count": 3,
     "metadata": {},
     "output_type": "execute_result"
    }
   ],
   "source": [
    "3 < 10 # 3이 10보다 작으니?"
   ]
  },
  {
   "cell_type": "code",
   "execution_count": 4,
   "id": "fb3b7078",
   "metadata": {},
   "outputs": [
    {
     "data": {
      "text/plain": [
       "True"
      ]
     },
     "execution_count": 4,
     "metadata": {},
     "output_type": "execute_result"
    }
   ],
   "source": [
    "r = 3 < 10  # < 연산의 결과인 True가 변수 r에 저장\n",
    "r"
   ]
  },
  {
   "cell_type": "code",
   "execution_count": 5,
   "id": "6daaf196",
   "metadata": {},
   "outputs": [
    {
     "data": {
      "text/plain": [
       "bool"
      ]
     },
     "execution_count": 5,
     "metadata": {},
     "output_type": "execute_result"
    }
   ],
   "source": [
    "type(True)"
   ]
  },
  {
   "cell_type": "code",
   "execution_count": 6,
   "id": "41022da2",
   "metadata": {},
   "outputs": [
    {
     "data": {
      "text/plain": [
       "bool"
      ]
     },
     "execution_count": 6,
     "metadata": {},
     "output_type": "execute_result"
    }
   ],
   "source": [
    "type(False)"
   ]
  },
  {
   "cell_type": "code",
   "execution_count": 7,
   "id": "9dd2888a",
   "metadata": {},
   "outputs": [
    {
     "data": {
      "text/plain": [
       "(True, False, False, False)"
      ]
     },
     "execution_count": 7,
     "metadata": {},
     "output_type": "execute_result"
    }
   ],
   "source": [
    "True and True, True and False, \\\n",
    "False and True, False and False"
   ]
  },
  {
   "cell_type": "code",
   "execution_count": 8,
   "id": "54148a7b",
   "metadata": {},
   "outputs": [
    {
     "data": {
      "text/plain": [
       "(True, True, True, False)"
      ]
     },
     "execution_count": 8,
     "metadata": {},
     "output_type": "execute_result"
    }
   ],
   "source": [
    "True or True, True or False, \\\n",
    "False or True, False or False"
   ]
  },
  {
   "cell_type": "code",
   "execution_count": 9,
   "id": "95ee5cd4",
   "metadata": {},
   "outputs": [
    {
     "data": {
      "text/plain": [
       "(False, True)"
      ]
     },
     "execution_count": 9,
     "metadata": {},
     "output_type": "execute_result"
    }
   ],
   "source": [
    "not True, not False"
   ]
  },
  {
   "cell_type": "code",
   "execution_count": 10,
   "id": "9a3ba052",
   "metadata": {},
   "outputs": [
    {
     "name": "stdout",
     "output_type": "stream",
     "text": [
      "양의 정수입니다.\n"
     ]
    }
   ],
   "source": [
    "num = 10\n",
    "if num > 0:\n",
    "    print('양의 정수입니다.')"
   ]
  },
  {
   "cell_type": "code",
   "execution_count": 11,
   "id": "9f1643b7",
   "metadata": {},
   "outputs": [],
   "source": [
    "num = -1\n",
    "if num > 0:\n",
    "    print('양의 정수입니다.')"
   ]
  },
  {
   "cell_type": "code",
   "execution_count": 12,
   "id": "854f716c",
   "metadata": {},
   "outputs": [
    {
     "name": "stdout",
     "output_type": "stream",
     "text": [
      "정수 입력: 10\n",
      "양의 정수입니다.\n"
     ]
    }
   ],
   "source": [
    "num = int(input('정수 입력: '))\n",
    "if num > 0:\n",
    "    print('양의 정수입니다.')"
   ]
  },
  {
   "cell_type": "code",
   "execution_count": 13,
   "id": "2d44545d",
   "metadata": {},
   "outputs": [
    {
     "name": "stdout",
     "output_type": "stream",
     "text": [
      "양의 정수입니다.\n"
     ]
    }
   ],
   "source": [
    "num = 2\n",
    "if num > 0: print('양의 정수입니다.')"
   ]
  },
  {
   "cell_type": "code",
   "execution_count": 14,
   "id": "27fa9602",
   "metadata": {},
   "outputs": [
    {
     "name": "stdout",
     "output_type": "stream",
     "text": [
      "정수 입력: -5\n",
      "0보다 크지 않은 수입니다.\n"
     ]
    }
   ],
   "source": [
    "num = int(input(\"정수 입력: \"))\n",
    "if num > 0:\n",
    "    print(\"0보다 큰 수입니다.\")\n",
    "else:\n",
    "    print(\"0보다 크지 않은 수입니다.\")"
   ]
  },
  {
   "cell_type": "code",
   "execution_count": 15,
   "id": "18604217",
   "metadata": {},
   "outputs": [
    {
     "name": "stdout",
     "output_type": "stream",
     "text": [
      "정수 입력: -5\n",
      "0보다 작은 수입니다.\n"
     ]
    }
   ],
   "source": [
    "num = int(input(\"정수 입력: \"))\n",
    "if num > 0:\n",
    "    print(\"0보다 큰 수입니다.\") \n",
    "elif num < 0:\n",
    "    print(\"0보다 작은 수입니다.\")\n",
    "else:\n",
    "    print(\"0으로 판단이 됩니다.\")"
   ]
  },
  {
   "cell_type": "code",
   "execution_count": 16,
   "id": "628708b3",
   "metadata": {},
   "outputs": [
    {
     "name": "stdout",
     "output_type": "stream",
     "text": [
      "정수 입력: 2\n",
      "2를 입력했습니다.\n"
     ]
    }
   ],
   "source": [
    "num = int(input(\"정수 입력: \"))\n",
    "if num == 1:\n",
    "    print(\"1을 입력했습니다.\")\n",
    "elif num == 2:\n",
    "    print(\"2를 입력했습니다.\")\n",
    "elif num == 3:\n",
    "    print(\"3을 입력했습니다.\")\n",
    "else:\n",
    "    print(\"1, 2, 3 아닌 정수 입력했습니다.\")"
   ]
  },
  {
   "cell_type": "code",
   "execution_count": 17,
   "id": "2eb679a4",
   "metadata": {},
   "outputs": [
    {
     "name": "stdout",
     "output_type": "stream",
     "text": [
      "2의 배수이면서 3의 배수인 수 입력: 6\n",
      "OK!\n"
     ]
    }
   ],
   "source": [
    "num = int(input(\"2의 배수이면서 3의 배수인 수 입력: \"))\n",
    "if num % 2 == 0:\n",
    "    if num % 3 == 0:\n",
    "        print(\"OK!\")\n",
    "    else:\n",
    "        print(\"NO!\")\n",
    "else:\n",
    "    print(\"NO!\")"
   ]
  },
  {
   "cell_type": "code",
   "execution_count": 18,
   "id": "bc7e09cb",
   "metadata": {},
   "outputs": [
    {
     "data": {
      "text/plain": [
       "(True, True)"
      ]
     },
     "execution_count": 18,
     "metadata": {},
     "output_type": "execute_result"
    }
   ],
   "source": [
    "'abc' == 'abc', 'abc' == 'abc' #  두 문자열이 같은가? 다른가?"
   ]
  },
  {
   "cell_type": "code",
   "execution_count": 19,
   "id": "6c9dca6b",
   "metadata": {},
   "outputs": [
    {
     "data": {
      "text/plain": [
       "(True, False)"
      ]
     },
     "execution_count": 19,
     "metadata": {},
     "output_type": "execute_result"
    }
   ],
   "source": [
    "'김민준' < '하지민', '하민준' < '김지민'"
   ]
  },
  {
   "cell_type": "code",
   "execution_count": 20,
   "id": "3563ed94",
   "metadata": {
    "scrolled": true
   },
   "outputs": [
    {
     "data": {
      "text/plain": [
       "(False, True)"
      ]
     },
     "execution_count": 20,
     "metadata": {},
     "output_type": "execute_result"
    }
   ],
   "source": [
    "[1, 2, 3] == [1, 2], [1, 2, 3] != [1, 2] #  두 리스트가 같은가? 다른가?"
   ]
  },
  {
   "cell_type": "code",
   "execution_count": 21,
   "id": "0bb55eab",
   "metadata": {},
   "outputs": [
    {
     "data": {
      "text/plain": [
       "True"
      ]
     },
     "execution_count": 21,
     "metadata": {},
     "output_type": "execute_result"
    }
   ],
   "source": [
    "st1 = \"123\"\n",
    "st2 = \"OneTwoThree\"\n",
    "st1.isdigit()  # st1은 숫자로만 이뤄져 있나요?"
   ]
  },
  {
   "cell_type": "code",
   "execution_count": 22,
   "id": "5977a027",
   "metadata": {},
   "outputs": [
    {
     "data": {
      "text/plain": [
       "False"
      ]
     },
     "execution_count": 22,
     "metadata": {},
     "output_type": "execute_result"
    }
   ],
   "source": [
    "st2.isdigit()  # st2는 숫자로만 이뤄져 있나요?"
   ]
  },
  {
   "cell_type": "code",
   "execution_count": 23,
   "id": "7c471cb5",
   "metadata": {},
   "outputs": [
    {
     "data": {
      "text/plain": [
       "False"
      ]
     },
     "execution_count": 23,
     "metadata": {},
     "output_type": "execute_result"
    }
   ],
   "source": [
    "st1 = \"123\"\n",
    "st2 = \"OneTwoThree\"\n",
    "st1.isalpha()"
   ]
  },
  {
   "cell_type": "code",
   "execution_count": 24,
   "id": "6d62d557",
   "metadata": {},
   "outputs": [
    {
     "data": {
      "text/plain": [
       "True"
      ]
     },
     "execution_count": 24,
     "metadata": {},
     "output_type": "execute_result"
    }
   ],
   "source": [
    "st2.isalpha()"
   ]
  },
  {
   "cell_type": "code",
   "execution_count": 25,
   "id": "d37ddda3",
   "metadata": {},
   "outputs": [
    {
     "data": {
      "text/plain": [
       "True"
      ]
     },
     "execution_count": 25,
     "metadata": {},
     "output_type": "execute_result"
    }
   ],
   "source": [
    "str = \"Supersprint\"\n",
    "str.startswith(\"Super\") # 문자열이 'Super'로 시작하는가?"
   ]
  },
  {
   "cell_type": "code",
   "execution_count": 26,
   "id": "9643ffac",
   "metadata": {
    "scrolled": true
   },
   "outputs": [
    {
     "data": {
      "text/plain": [
       "True"
      ]
     },
     "execution_count": 26,
     "metadata": {},
     "output_type": "execute_result"
    }
   ],
   "source": [
    "str.endswith(\"int\")     # 문자열이 'int'로 끝나는가?"
   ]
  },
  {
   "cell_type": "code",
   "execution_count": 27,
   "id": "72dd3eff",
   "metadata": {},
   "outputs": [
    {
     "data": {
      "text/plain": [
       "0"
      ]
     },
     "execution_count": 27,
     "metadata": {},
     "output_type": "execute_result"
    }
   ],
   "source": [
    "s = 'subway yawbus'\n",
    "s.find('sub')         # 앞에서부터 sub를 찾아 인덱스 값 반환"
   ]
  },
  {
   "cell_type": "code",
   "execution_count": 28,
   "id": "280650c7",
   "metadata": {},
   "outputs": [
    {
     "data": {
      "text/plain": [
       "-1"
      ]
     },
     "execution_count": 28,
     "metadata": {},
     "output_type": "execute_result"
    }
   ],
   "source": [
    "s.find('sss')"
   ]
  },
  {
   "cell_type": "code",
   "execution_count": 29,
   "id": "7b404291",
   "metadata": {},
   "outputs": [
    {
     "data": {
      "text/plain": [
       "10"
      ]
     },
     "execution_count": 29,
     "metadata": {},
     "output_type": "execute_result"
    }
   ],
   "source": [
    "s.rfind('bus')        # 뒤에서부터 sub를 찾아 인덱스 값 반환"
   ]
  },
  {
   "cell_type": "code",
   "execution_count": 30,
   "id": "aee17c5b",
   "metadata": {},
   "outputs": [
    {
     "data": {
      "text/plain": [
       "-1"
      ]
     },
     "execution_count": 30,
     "metadata": {},
     "output_type": "execute_result"
    }
   ],
   "source": [
    "s.rfind('sss')"
   ]
  },
  {
   "cell_type": "code",
   "execution_count": 31,
   "id": "308cdccc",
   "metadata": {
    "scrolled": true
   },
   "outputs": [
    {
     "data": {
      "text/plain": [
       "True"
      ]
     },
     "execution_count": 31,
     "metadata": {},
     "output_type": "execute_result"
    }
   ],
   "source": [
    "s.startswith('sub')  # prefix로 시작하면 True 반환"
   ]
  },
  {
   "cell_type": "code",
   "execution_count": 32,
   "id": "bd3e68c4",
   "metadata": {
    "scrolled": true
   },
   "outputs": [
    {
     "data": {
      "text/plain": [
       "True"
      ]
     },
     "execution_count": 32,
     "metadata": {},
     "output_type": "execute_result"
    }
   ],
   "source": [
    "s.endswith('bus')   # suffix로 끝나면 True 반환"
   ]
  },
  {
   "cell_type": "code",
   "execution_count": 33,
   "id": "08620bd7",
   "metadata": {},
   "outputs": [
    {
     "data": {
      "text/plain": [
       "True"
      ]
     },
     "execution_count": 33,
     "metadata": {},
     "output_type": "execute_result"
    }
   ],
   "source": [
    "3 in [1, 2, 3]     # 리스트 [1, 2, 3] 안에 3이 있는가?"
   ]
  },
  {
   "cell_type": "code",
   "execution_count": 34,
   "id": "7f51a77b",
   "metadata": {},
   "outputs": [
    {
     "data": {
      "text/plain": [
       "False"
      ]
     },
     "execution_count": 34,
     "metadata": {},
     "output_type": "execute_result"
    }
   ],
   "source": [
    "4 in [1, 2, 3]     # 리스트 [1, 2, 3] 안에 4가 있는가?"
   ]
  },
  {
   "cell_type": "code",
   "execution_count": 35,
   "id": "914aad7d",
   "metadata": {},
   "outputs": [
    {
     "data": {
      "text/plain": [
       "True"
      ]
     },
     "execution_count": 35,
     "metadata": {},
     "output_type": "execute_result"
    }
   ],
   "source": [
    "'c' in 'abcdef'"
   ]
  },
  {
   "cell_type": "code",
   "execution_count": 36,
   "id": "3e92d0ca",
   "metadata": {},
   "outputs": [
    {
     "data": {
      "text/plain": [
       "False"
      ]
     },
     "execution_count": 36,
     "metadata": {},
     "output_type": "execute_result"
    }
   ],
   "source": [
    "'z' in 'abcdef'"
   ]
  },
  {
   "cell_type": "code",
   "execution_count": 37,
   "id": "fd043680",
   "metadata": {},
   "outputs": [
    {
     "name": "stdout",
     "output_type": "stream",
     "text": [
      "있습니다.\n"
     ]
    }
   ],
   "source": [
    "s = \"Tomato spaghetti\"\n",
    "if s.find(\"ghe\") != -1:\n",
    "    print(\"있습니다.\")\n",
    "else:\n",
    "    print(\"없습니다.\")"
   ]
  },
  {
   "cell_type": "code",
   "execution_count": 38,
   "id": "2c044f84",
   "metadata": {},
   "outputs": [
    {
     "name": "stdout",
     "output_type": "stream",
     "text": [
      "있습니다.\n"
     ]
    }
   ],
   "source": [
    "if \"ghe\" in s:\n",
    "    print(\"있습니다.\")\n",
    "else:\n",
    "    print(\"없습니다.\")"
   ]
  },
  {
   "cell_type": "code",
   "execution_count": 39,
   "id": "99705e40",
   "metadata": {},
   "outputs": [
    {
     "data": {
      "text/plain": [
       "False"
      ]
     },
     "execution_count": 39,
     "metadata": {},
     "output_type": "execute_result"
    }
   ],
   "source": [
    "3 not in [1, 2, 3]"
   ]
  },
  {
   "cell_type": "code",
   "execution_count": 40,
   "id": "8ecd2c2b",
   "metadata": {},
   "outputs": [
    {
     "data": {
      "text/plain": [
       "True"
      ]
     },
     "execution_count": 40,
     "metadata": {},
     "output_type": "execute_result"
    }
   ],
   "source": [
    "4 not in [1, 2, 3]"
   ]
  },
  {
   "cell_type": "code",
   "execution_count": 41,
   "id": "dc7ecb9c",
   "metadata": {},
   "outputs": [
    {
     "data": {
      "text/plain": [
       "False"
      ]
     },
     "execution_count": 41,
     "metadata": {},
     "output_type": "execute_result"
    }
   ],
   "source": [
    "\"he\" not in \"hello\""
   ]
  },
  {
   "cell_type": "code",
   "execution_count": 42,
   "id": "bf10795c",
   "metadata": {},
   "outputs": [
    {
     "data": {
      "text/plain": [
       "True"
      ]
     },
     "execution_count": 42,
     "metadata": {},
     "output_type": "execute_result"
    }
   ],
   "source": [
    "\"oo\" not in \"hello\""
   ]
  },
  {
   "cell_type": "code",
   "execution_count": 43,
   "id": "801ab832",
   "metadata": {},
   "outputs": [
    {
     "name": "stdout",
     "output_type": "stream",
     "text": [
      "실행됨\n"
     ]
    }
   ],
   "source": [
    "num = 1\n",
    "if num:\n",
    "    print('실행됨')"
   ]
  },
  {
   "cell_type": "code",
   "execution_count": 44,
   "id": "1e61e7b1",
   "metadata": {},
   "outputs": [
    {
     "name": "stdout",
     "output_type": "stream",
     "text": [
      "실행됨\n"
     ]
    }
   ],
   "source": [
    "num = -1\n",
    "if num:\n",
    "    print('실행됨')"
   ]
  },
  {
   "cell_type": "code",
   "execution_count": 45,
   "id": "965f7612",
   "metadata": {},
   "outputs": [],
   "source": [
    "num = 0\n",
    "if num:\n",
    "    print('실행됨')"
   ]
  },
  {
   "cell_type": "code",
   "execution_count": 46,
   "id": "18b67f3a",
   "metadata": {},
   "outputs": [
    {
     "data": {
      "text/plain": [
       "True"
      ]
     },
     "execution_count": 46,
     "metadata": {},
     "output_type": "execute_result"
    }
   ],
   "source": [
    "bool(5)"
   ]
  },
  {
   "cell_type": "code",
   "execution_count": 47,
   "id": "19d451e7",
   "metadata": {},
   "outputs": [
    {
     "data": {
      "text/plain": [
       "True"
      ]
     },
     "execution_count": 47,
     "metadata": {},
     "output_type": "execute_result"
    }
   ],
   "source": [
    "bool(\"What?\")"
   ]
  },
  {
   "cell_type": "code",
   "execution_count": 48,
   "id": "fb3c7ed4",
   "metadata": {},
   "outputs": [
    {
     "data": {
      "text/plain": [
       "False"
      ]
     },
     "execution_count": 48,
     "metadata": {},
     "output_type": "execute_result"
    }
   ],
   "source": [
    "bool(\"\")"
   ]
  },
  {
   "cell_type": "code",
   "execution_count": 49,
   "id": "ad4b148a",
   "metadata": {
    "scrolled": true
   },
   "outputs": [
    {
     "data": {
      "text/plain": [
       "True"
      ]
     },
     "execution_count": 49,
     "metadata": {},
     "output_type": "execute_result"
    }
   ],
   "source": [
    "bool([1, 2, 3])"
   ]
  },
  {
   "cell_type": "code",
   "execution_count": 50,
   "id": "e8c5cebc",
   "metadata": {},
   "outputs": [
    {
     "data": {
      "text/plain": [
       "False"
      ]
     },
     "execution_count": 50,
     "metadata": {},
     "output_type": "execute_result"
    }
   ],
   "source": [
    "bool([])"
   ]
  }
 ],
 "metadata": {
  "kernelspec": {
   "display_name": "Python 3 (ipykernel)",
   "language": "python",
   "name": "python3"
  },
  "language_info": {
   "codemirror_mode": {
    "name": "ipython",
    "version": 3
   },
   "file_extension": ".py",
   "mimetype": "text/x-python",
   "name": "python",
   "nbconvert_exporter": "python",
   "pygments_lexer": "ipython3",
   "version": "3.9.12"
  }
 },
 "nbformat": 4,
 "nbformat_minor": 5
}
