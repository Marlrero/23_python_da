{
 "cells": [
  {
   "cell_type": "code",
   "execution_count": null,
   "id": "7bfb1f85",
   "metadata": {},
   "outputs": [],
   "source": [
    "PI = 3.14 \t\t# 원주율\n",
    "\n",
    "def ar_circle(rad):  # 원의 넓이를 계산해서 반환하는 함수\n",
    "    return rad * rad * PI\n",
    "\n",
    "def ci_circle(rad):     # 원의 둘레를 계산해서 반환하는 함수\n",
    "    return rad * 2 * PI"
   ]
  }
 ],
 "metadata": {
  "kernelspec": {
   "display_name": "Python 3 (ipykernel)",
   "language": "python",
   "name": "python3"
  },
  "language_info": {
   "codemirror_mode": {
    "name": "ipython",
    "version": 3
   },
   "file_extension": ".py",
   "mimetype": "text/x-python",
   "name": "python",
   "nbconvert_exporter": "python",
   "pygments_lexer": "ipython3",
   "version": "3.9.12"
  }
 },
 "nbformat": 4,
 "nbformat_minor": 5
}
