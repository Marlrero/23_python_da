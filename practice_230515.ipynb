{
 "cells": [
  {
   "cell_type": "code",
   "execution_count": 1,
   "id": "139fb017",
   "metadata": {
    "scrolled": true
   },
   "outputs": [
    {
     "name": "stdout",
     "output_type": "stream",
     "text": [
      "hello\n"
     ]
    }
   ],
   "source": [
    "print('hello')"
   ]
  },
  {
   "cell_type": "code",
   "execution_count": 2,
   "id": "5eee06f5",
   "metadata": {},
   "outputs": [
    {
     "name": "stdout",
     "output_type": "stream",
     "text": [
      "hello\n"
     ]
    }
   ],
   "source": [
    "print('hello')"
   ]
  },
  {
   "cell_type": "code",
   "execution_count": 3,
   "id": "79b2566b",
   "metadata": {},
   "outputs": [
    {
     "name": "stdout",
     "output_type": "stream",
     "text": [
      "hello\n"
     ]
    }
   ],
   "source": [
    "print('hello')"
   ]
  },
  {
   "cell_type": "code",
   "execution_count": 4,
   "id": "f5f1ae35",
   "metadata": {},
   "outputs": [],
   "source": [
    "a = 3\n",
    "a?"
   ]
  },
  {
   "cell_type": "code",
   "execution_count": 5,
   "id": "60138e2f",
   "metadata": {},
   "outputs": [],
   "source": [
    "a = 3.0\n",
    "a?"
   ]
  },
  {
   "cell_type": "code",
   "execution_count": 6,
   "id": "42dbb5f7",
   "metadata": {},
   "outputs": [],
   "source": [
    "a = 'abc '\n",
    "a?"
   ]
  },
  {
   "cell_type": "code",
   "execution_count": 7,
   "id": "2fd02ed1",
   "metadata": {},
   "outputs": [
    {
     "name": "stdout",
     "output_type": "stream",
     "text": [
      "600\n"
     ]
    }
   ],
   "source": [
    "pig = 100 + 200 + 300\n",
    "print(pig)"
   ]
  },
  {
   "cell_type": "code",
   "execution_count": 8,
   "id": "d23fc0f5",
   "metadata": {},
   "outputs": [
    {
     "name": "stdout",
     "output_type": "stream",
     "text": [
      "100\n",
      "200\n",
      "300\n",
      "(100, 200, 300) <class 'tuple'>\n",
      "결과:\n",
      "학생 3명의 키 합계: 600\n",
      "학생 3명의 키 평균: 200.0\n"
     ]
    }
   ],
   "source": [
    "#student1 = int(input('입력1:'))\n",
    "#student2  = int(input('입력2:'))\n",
    "#student3 = int(input('입력3:'))\n",
    "\n",
    "s = int(input()), int(input()), int(input())\n",
    "print(s, type(s))\n",
    "sum = s[0] + s[1] + s[2]\n",
    "\n",
    "print('결과:')\n",
    "print('학생 3명의 키 합계:', sum)\n",
    "print('학생 3명의 키 평균:', sum / 3)"
   ]
  },
  {
   "cell_type": "code",
   "execution_count": 9,
   "id": "95b0d327",
   "metadata": {},
   "outputs": [
    {
     "data": {
      "text/plain": [
       "str"
      ]
     },
     "execution_count": 9,
     "metadata": {},
     "output_type": "execute_result"
    }
   ],
   "source": [
    "type('345')"
   ]
  },
  {
   "cell_type": "code",
   "execution_count": 10,
   "id": "873bf3fd",
   "metadata": {},
   "outputs": [
    {
     "data": {
      "text/plain": [
       "int"
      ]
     },
     "execution_count": 10,
     "metadata": {},
     "output_type": "execute_result"
    }
   ],
   "source": [
    "a = int('345')\n",
    "type(a)"
   ]
  },
  {
   "cell_type": "code",
   "execution_count": 11,
   "id": "3eb1b6ac",
   "metadata": {},
   "outputs": [
    {
     "data": {
      "text/plain": [
       "str"
      ]
     },
     "execution_count": 11,
     "metadata": {},
     "output_type": "execute_result"
    }
   ],
   "source": [
    "b = str(345)\n",
    "type(b)"
   ]
  },
  {
   "cell_type": "code",
   "execution_count": 12,
   "id": "00be106a",
   "metadata": {},
   "outputs": [
    {
     "name": "stdout",
     "output_type": "stream",
     "text": [
      "3.0 <class 'float'>\n"
     ]
    }
   ],
   "source": [
    "c = float(3)\n",
    "print(c, type(c))"
   ]
  },
  {
   "cell_type": "code",
   "execution_count": 13,
   "id": "272dabb3",
   "metadata": {},
   "outputs": [
    {
     "name": "stdout",
     "output_type": "stream",
     "text": [
      "100\n",
      "100\n"
     ]
    }
   ],
   "source": [
    "a = input()\n",
    "print(a)"
   ]
  },
  {
   "cell_type": "code",
   "execution_count": 14,
   "id": "2a137891",
   "metadata": {},
   "outputs": [
    {
     "name": "stdout",
     "output_type": "stream",
     "text": [
      "100\n",
      "100 <class 'str'>\n",
      "100 안녕하세요!\n"
     ]
    }
   ],
   "source": [
    "name = input()\n",
    "print(name, type(name))\n",
    "print(name + ' 안녕하세요!')"
   ]
  },
  {
   "cell_type": "code",
   "execution_count": 15,
   "id": "ef8a852e",
   "metadata": {},
   "outputs": [
    {
     "name": "stdout",
     "output_type": "stream",
     "text": [
      "abcdefg\n"
     ]
    }
   ],
   "source": [
    "s = 'abcdefg'\n",
    "print(s)"
   ]
  },
  {
   "cell_type": "code",
   "execution_count": 16,
   "id": "f35976c9",
   "metadata": {},
   "outputs": [
    {
     "data": {
      "text/plain": [
       "'a'"
      ]
     },
     "execution_count": 16,
     "metadata": {},
     "output_type": "execute_result"
    }
   ],
   "source": [
    "s[0]"
   ]
  },
  {
   "cell_type": "code",
   "execution_count": 17,
   "id": "3fad557d",
   "metadata": {},
   "outputs": [
    {
     "ename": "IndexError",
     "evalue": "string index out of range",
     "output_type": "error",
     "traceback": [
      "\u001b[1;31m---------------------------------------------------------------------------\u001b[0m",
      "\u001b[1;31mIndexError\u001b[0m                                Traceback (most recent call last)",
      "Cell \u001b[1;32mIn[17], line 1\u001b[0m\n\u001b[1;32m----> 1\u001b[0m \u001b[43ms\u001b[49m\u001b[43m[\u001b[49m\u001b[38;5;241;43m7\u001b[39;49m\u001b[43m]\u001b[49m\n",
      "\u001b[1;31mIndexError\u001b[0m: string index out of range"
     ]
    }
   ],
   "source": [
    "s[7]"
   ]
  },
  {
   "cell_type": "code",
   "execution_count": 18,
   "id": "42579f3a",
   "metadata": {},
   "outputs": [
    {
     "name": "stdout",
     "output_type": "stream",
     "text": [
      "메롱\n"
     ]
    }
   ],
   "source": [
    "my_info = 2000, '메롱', '서울특별시', 20\n",
    "print(my_info[1])"
   ]
  },
  {
   "cell_type": "code",
   "execution_count": 19,
   "id": "2af691da",
   "metadata": {},
   "outputs": [
    {
     "name": "stdout",
     "output_type": "stream",
     "text": [
      "1\n",
      "2\n",
      "2\n",
      "1\n"
     ]
    }
   ],
   "source": [
    "x, y = 1, 2\n",
    "print(x)\n",
    "print(y)\n",
    "\n",
    "x, y = y, x\n",
    "print(x)\n",
    "print(y)\n",
    "\n",
    "\n",
    "\n",
    "#x = 1\n",
    "#y = 2\n"
   ]
  },
  {
   "cell_type": "code",
   "execution_count": null,
   "id": "8003a852",
   "metadata": {},
   "outputs": [],
   "source": []
  },
  {
   "cell_type": "code",
   "execution_count": null,
   "id": "57afd825",
   "metadata": {},
   "outputs": [],
   "source": []
  },
  {
   "cell_type": "code",
   "execution_count": null,
   "id": "be23e74c",
   "metadata": {},
   "outputs": [],
   "source": []
  }
 ],
 "metadata": {
  "kernelspec": {
   "display_name": "Python 3 (ipykernel)",
   "language": "python",
   "name": "python3"
  },
  "language_info": {
   "codemirror_mode": {
    "name": "ipython",
    "version": 3
   },
   "file_extension": ".py",
   "mimetype": "text/x-python",
   "name": "python",
   "nbconvert_exporter": "python",
   "pygments_lexer": "ipython3",
   "version": "3.10.9"
  }
 },
 "nbformat": 4,
 "nbformat_minor": 5
}
