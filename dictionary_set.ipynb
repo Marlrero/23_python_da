{
 "cells": [
  {
   "cell_type": "code",
   "execution_count": 1,
   "id": "bef52669",
   "metadata": {},
   "outputs": [],
   "source": [
    "dc = {\n",
    "        '코카콜라': 900,\n",
    "        '바나나맛우유': 750,\n",
    "        '비타500': 600,\n",
    "        '삼다수': 450\n",
    "}"
   ]
  },
  {
   "cell_type": "code",
   "execution_count": 2,
   "id": "c3ea5a8a",
   "metadata": {},
   "outputs": [
    {
     "data": {
      "text/plain": [
       "{'코카콜라': 900, '바나나맛우유': 750, '비타500': 600, '삼다수': 450}"
      ]
     },
     "execution_count": 2,
     "metadata": {},
     "output_type": "execute_result"
    }
   ],
   "source": [
    "dc"
   ]
  },
  {
   "cell_type": "code",
   "execution_count": 3,
   "id": "2202debb",
   "metadata": {},
   "outputs": [],
   "source": [
    "dc = {\n",
    "         '이름': '이순둥', \t# 값이 문자열\n",
    "         '나이': 19, \t\t\t# 값이 정수\n",
    "         '직업': '학생', \t\t# 값이 문자열\n",
    "         '키': 175.8 \t\t\t# 값이 실수\n",
    "}"
   ]
  },
  {
   "cell_type": "code",
   "execution_count": 4,
   "id": "db1f6b47",
   "metadata": {},
   "outputs": [
    {
     "data": {
      "text/plain": [
       "{'이름': '이순둥', '나이': 19, '직업': '학생', '키': 175.8}"
      ]
     },
     "execution_count": 4,
     "metadata": {},
     "output_type": "execute_result"
    }
   ],
   "source": [
    "dc"
   ]
  },
  {
   "cell_type": "code",
   "execution_count": 5,
   "id": "80637f07",
   "metadata": {},
   "outputs": [
    {
     "data": {
      "text/plain": [
       "dict"
      ]
     },
     "execution_count": 5,
     "metadata": {},
     "output_type": "execute_result"
    }
   ],
   "source": [
    "type(dc)"
   ]
  },
  {
   "cell_type": "code",
   "execution_count": 6,
   "id": "0b1dc0de",
   "metadata": {},
   "outputs": [
    {
     "data": {
      "text/plain": [
       "{'이순둥': 22, '정순둥': 22, '김순둥': 22}"
      ]
     },
     "execution_count": 6,
     "metadata": {},
     "output_type": "execute_result"
    }
   ],
   "source": [
    "dc = {\n",
    "         '이순둥': 22,\n",
    "         '정순둥': 22,\n",
    "         '김순둥': 22\n",
    "         }\n",
    "dc"
   ]
  },
  {
   "cell_type": "code",
   "execution_count": 7,
   "id": "37bab078",
   "metadata": {},
   "outputs": [
    {
     "data": {
      "text/plain": [
       "{'이순둥': 22}"
      ]
     },
     "execution_count": 7,
     "metadata": {},
     "output_type": "execute_result"
    }
   ],
   "source": [
    "dc = {\n",
    "         '이순둥': 22,\n",
    "         '이순둥': 22,\n",
    "         '이순둥': 22\n",
    "         }\n",
    "dc"
   ]
  },
  {
   "cell_type": "code",
   "execution_count": 8,
   "id": "e6c68af8",
   "metadata": {},
   "outputs": [],
   "source": [
    "dc = {\n",
    "         '코카콜라': 900, \n",
    "         '바나나맛우유': 750, \n",
    "         '비타500': 600, \n",
    "         '삼다수': 450\n",
    "         }\n"
   ]
  },
  {
   "cell_type": "code",
   "execution_count": 9,
   "id": "07e24c34",
   "metadata": {},
   "outputs": [],
   "source": [
    "v = dc['삼다수']"
   ]
  },
  {
   "cell_type": "code",
   "execution_count": 10,
   "id": "7cd02305",
   "metadata": {},
   "outputs": [
    {
     "data": {
      "text/plain": [
       "450"
      ]
     },
     "execution_count": 10,
     "metadata": {},
     "output_type": "execute_result"
    }
   ],
   "source": [
    "v"
   ]
  },
  {
   "cell_type": "code",
   "execution_count": 11,
   "id": "011d2054",
   "metadata": {},
   "outputs": [],
   "source": [
    "dc['삼다수'] = 550"
   ]
  },
  {
   "cell_type": "code",
   "execution_count": 12,
   "id": "0cdcb2ff",
   "metadata": {},
   "outputs": [
    {
     "data": {
      "text/plain": [
       "{'코카콜라': 900, '바나나맛우유': 750, '비타500': 600, '삼다수': 550}"
      ]
     },
     "execution_count": 12,
     "metadata": {},
     "output_type": "execute_result"
    }
   ],
   "source": [
    "dc"
   ]
  },
  {
   "cell_type": "code",
   "execution_count": 13,
   "id": "9078b972",
   "metadata": {},
   "outputs": [
    {
     "data": {
      "text/plain": [
       "{'코카콜라': 900, '바나나맛우유': 750, '비타500': 600, '삼다수': 550}"
      ]
     },
     "execution_count": 13,
     "metadata": {},
     "output_type": "execute_result"
    }
   ],
   "source": [
    "dc['삼다수'] = 550\n",
    "dc"
   ]
  },
  {
   "cell_type": "code",
   "execution_count": 14,
   "id": "e2b582d5",
   "metadata": {},
   "outputs": [
    {
     "data": {
      "text/plain": [
       "{'코카콜라': 900, '바나나맛우유': 750, '비타500': 600, '삼다수': 550, '카페라떼': 1300}"
      ]
     },
     "execution_count": 14,
     "metadata": {},
     "output_type": "execute_result"
    }
   ],
   "source": [
    "dc['카페라떼'] = 1300\n",
    "dc"
   ]
  },
  {
   "cell_type": "code",
   "execution_count": 15,
   "id": "4747975b",
   "metadata": {},
   "outputs": [
    {
     "data": {
      "text/plain": [
       "{'코카콜라': 900, '바나나맛우유': 750, '삼다수': 550, '카페라떼': 1300}"
      ]
     },
     "execution_count": 15,
     "metadata": {},
     "output_type": "execute_result"
    }
   ],
   "source": [
    "del dc['비타500']\n",
    "dc"
   ]
  },
  {
   "cell_type": "code",
   "execution_count": 16,
   "id": "b1dac753",
   "metadata": {},
   "outputs": [
    {
     "data": {
      "text/plain": [
       "(True, False)"
      ]
     },
     "execution_count": 16,
     "metadata": {},
     "output_type": "execute_result"
    }
   ],
   "source": [
    "t1 = [1, 2, 3]\n",
    "t2 = [1, 2, 3]\n",
    "t3 = [3, 2, 1]\n",
    "t1 == t2, t1 == t3"
   ]
  },
  {
   "cell_type": "code",
   "execution_count": 17,
   "id": "4b72c52b",
   "metadata": {},
   "outputs": [
    {
     "data": {
      "text/plain": [
       "(True, True)"
      ]
     },
     "execution_count": 17,
     "metadata": {},
     "output_type": "execute_result"
    }
   ],
   "source": [
    "d1 = {1: 'a', 2: 'b'}\n",
    "d2 = {1: 'a', 2: 'b'}\n",
    "d3 = {2: 'b', 1: 'a'}\n",
    "d1 == d2, d1 == d3"
   ]
  },
  {
   "cell_type": "code",
   "execution_count": 18,
   "id": "ab910aa1",
   "metadata": {},
   "outputs": [],
   "source": [
    "dc1 = { '코카콜라': 900, '삼다수': 450 }\n",
    "dc2 = { '새우깡': 700, '콘치즈': 850 }"
   ]
  },
  {
   "cell_type": "code",
   "execution_count": 19,
   "id": "00860bf2",
   "metadata": {},
   "outputs": [],
   "source": [
    "dc2['새우깡'] = 950"
   ]
  },
  {
   "cell_type": "code",
   "execution_count": 20,
   "id": "5e660ca7",
   "metadata": {},
   "outputs": [],
   "source": [
    "dc1['새우깡'] = 950"
   ]
  },
  {
   "cell_type": "code",
   "execution_count": 21,
   "id": "e2749ab0",
   "metadata": {},
   "outputs": [],
   "source": [
    "if '새우깡' in dc2:\n",
    "    dc2['새우깡'] = 950"
   ]
  },
  {
   "cell_type": "code",
   "execution_count": 22,
   "id": "680dfe48",
   "metadata": {},
   "outputs": [],
   "source": [
    "if '카페라떼' not in dc1:\n",
    "    dc1['카페라떼'] = 1200 # 추가"
   ]
  },
  {
   "cell_type": "code",
   "execution_count": 23,
   "id": "34bf46c7",
   "metadata": {},
   "outputs": [
    {
     "name": "stdout",
     "output_type": "stream",
     "text": [
      "새우깡 콘치즈 꼬깔콘 "
     ]
    }
   ],
   "source": [
    "dc = {'새우깡': 700, '콘치즈': 850, '꼬깔콘': 750}\n",
    "for i in dc:\n",
    "    print(i, end = ' ')"
   ]
  },
  {
   "cell_type": "code",
   "execution_count": 24,
   "id": "d40aabbc",
   "metadata": {},
   "outputs": [
    {
     "data": {
      "text/plain": [
       "{'새우깡': 770, '콘치즈': 920, '꼬깔콘': 820}"
      ]
     },
     "execution_count": 24,
     "metadata": {},
     "output_type": "execute_result"
    }
   ],
   "source": [
    "dc = {'새우깡': 700, '콘치즈': 850, '꼬깔콘': 750}\n",
    "for i in dc:\n",
    "    dc[i] += 70\n",
    "\n",
    "dc"
   ]
  },
  {
   "cell_type": "code",
   "execution_count": 25,
   "id": "01120951",
   "metadata": {},
   "outputs": [
    {
     "data": {
      "text/plain": [
       "dict_keys(['새우깡', '콘치즈', '꼬깔콘'])"
      ]
     },
     "execution_count": 25,
     "metadata": {},
     "output_type": "execute_result"
    }
   ],
   "source": [
    "dc.keys()"
   ]
  },
  {
   "cell_type": "code",
   "execution_count": 26,
   "id": "aa022338",
   "metadata": {},
   "outputs": [
    {
     "data": {
      "text/plain": [
       "dict_values([770, 920, 820])"
      ]
     },
     "execution_count": 26,
     "metadata": {},
     "output_type": "execute_result"
    }
   ],
   "source": [
    "dc.values()"
   ]
  },
  {
   "cell_type": "code",
   "execution_count": 27,
   "id": "9303c503",
   "metadata": {},
   "outputs": [
    {
     "name": "stdout",
     "output_type": "stream",
     "text": [
      "새우깡\n",
      "770\n",
      "콘치즈\n",
      "920\n",
      "꼬깔콘\n",
      "820\n"
     ]
    }
   ],
   "source": [
    "for key in dc.keys():\n",
    "    print(key)\n",
    "    print(dc[key])"
   ]
  },
  {
   "cell_type": "code",
   "execution_count": 28,
   "id": "89dd3dba",
   "metadata": {},
   "outputs": [
    {
     "name": "stdout",
     "output_type": "stream",
     "text": [
      "('새우깡', 770)\n",
      "('콘치즈', 920)\n",
      "('꼬깔콘', 820)\n"
     ]
    }
   ],
   "source": [
    "for item in dc.items():\n",
    "    print(item) # tuple"
   ]
  },
  {
   "cell_type": "code",
   "execution_count": 29,
   "id": "2a0b6818",
   "metadata": {},
   "outputs": [
    {
     "name": "stdout",
     "output_type": "stream",
     "text": [
      "새우깡 770\n",
      "콘치즈 920\n",
      "꼬깔콘 820\n"
     ]
    }
   ],
   "source": [
    "for key, value in dc.items():\n",
    "    print(key, value)"
   ]
  },
  {
   "cell_type": "code",
   "execution_count": 30,
   "id": "8871115d",
   "metadata": {},
   "outputs": [],
   "source": [
    "s = {'A', 'A', 'B', 'B', 'B', 1, 1, 3, 100}"
   ]
  },
  {
   "cell_type": "code",
   "execution_count": 31,
   "id": "75a79baa",
   "metadata": {},
   "outputs": [
    {
     "name": "stdout",
     "output_type": "stream",
     "text": [
      "{1, 3, 100, 'B', 'A'}\n"
     ]
    }
   ],
   "source": [
    "print(s)"
   ]
  },
  {
   "cell_type": "code",
   "execution_count": 32,
   "id": "ffea9d9e",
   "metadata": {},
   "outputs": [
    {
     "data": {
      "text/plain": [
       "set"
      ]
     },
     "execution_count": 32,
     "metadata": {},
     "output_type": "execute_result"
    }
   ],
   "source": [
    "type(s)"
   ]
  },
  {
   "cell_type": "code",
   "execution_count": 33,
   "id": "52a1549a",
   "metadata": {},
   "outputs": [
    {
     "data": {
      "text/plain": [
       "{1, 100, 3, 'A', 'B', 'C'}"
      ]
     },
     "execution_count": 33,
     "metadata": {},
     "output_type": "execute_result"
    }
   ],
   "source": [
    "s.add('C')\n",
    "s"
   ]
  },
  {
   "cell_type": "code",
   "execution_count": 34,
   "id": "601f9105",
   "metadata": {},
   "outputs": [
    {
     "data": {
      "text/plain": [
       "{1, 100, 3, 'B', 'C'}"
      ]
     },
     "execution_count": 34,
     "metadata": {},
     "output_type": "execute_result"
    }
   ],
   "source": [
    "s.remove('A')\n",
    "s"
   ]
  },
  {
   "cell_type": "code",
   "execution_count": 35,
   "id": "b1d5f494",
   "metadata": {},
   "outputs": [
    {
     "ename": "KeyError",
     "evalue": "'BBB'",
     "output_type": "error",
     "traceback": [
      "\u001b[1;31m---------------------------------------------------------------------------\u001b[0m",
      "\u001b[1;31mKeyError\u001b[0m                                  Traceback (most recent call last)",
      "Input \u001b[1;32mIn [35]\u001b[0m, in \u001b[0;36m<cell line: 1>\u001b[1;34m()\u001b[0m\n\u001b[1;32m----> 1\u001b[0m \u001b[43ms\u001b[49m\u001b[38;5;241;43m.\u001b[39;49m\u001b[43mremove\u001b[49m\u001b[43m(\u001b[49m\u001b[38;5;124;43m'\u001b[39;49m\u001b[38;5;124;43mBBB\u001b[39;49m\u001b[38;5;124;43m'\u001b[39;49m\u001b[43m)\u001b[49m\n\u001b[0;32m      2\u001b[0m s\n",
      "\u001b[1;31mKeyError\u001b[0m: 'BBB'"
     ]
    }
   ],
   "source": [
    "s.remove('BBB')\n",
    "s"
   ]
  },
  {
   "cell_type": "code",
   "execution_count": 36,
   "id": "4aa4184b",
   "metadata": {},
   "outputs": [
    {
     "data": {
      "text/plain": [
       "{1, 100, 3, 'B', 'C'}"
      ]
     },
     "execution_count": 36,
     "metadata": {},
     "output_type": "execute_result"
    }
   ],
   "source": [
    "s.discard('BBB')\n",
    "s"
   ]
  },
  {
   "cell_type": "code",
   "execution_count": 37,
   "id": "dcad1a04",
   "metadata": {
    "scrolled": true
   },
   "outputs": [
    {
     "data": {
      "text/plain": [
       "({'a', 'b', 'c', 'd', 'r'}, {'a', 'c', 'l', 'm', 'z'})"
      ]
     },
     "execution_count": 37,
     "metadata": {},
     "output_type": "execute_result"
    }
   ],
   "source": [
    "a = set('abracadabra')\n",
    "b = set('alacazam')\n",
    "\n",
    "a, b"
   ]
  },
  {
   "cell_type": "code",
   "execution_count": 38,
   "id": "c35f4310",
   "metadata": {},
   "outputs": [
    {
     "data": {
      "text/plain": [
       "{'b', 'd', 'r'}"
      ]
     },
     "execution_count": 38,
     "metadata": {},
     "output_type": "execute_result"
    }
   ],
   "source": [
    "a - b"
   ]
  },
  {
   "cell_type": "code",
   "execution_count": 39,
   "id": "8212d147",
   "metadata": {},
   "outputs": [
    {
     "data": {
      "text/plain": [
       "{'a', 'b', 'c', 'd', 'l', 'm', 'r', 'z'}"
      ]
     },
     "execution_count": 39,
     "metadata": {},
     "output_type": "execute_result"
    }
   ],
   "source": [
    "a | b"
   ]
  },
  {
   "cell_type": "code",
   "execution_count": 40,
   "id": "4b2d48c6",
   "metadata": {},
   "outputs": [
    {
     "data": {
      "text/plain": [
       "{'a', 'c'}"
      ]
     },
     "execution_count": 40,
     "metadata": {},
     "output_type": "execute_result"
    }
   ],
   "source": [
    "a & b"
   ]
  },
  {
   "cell_type": "code",
   "execution_count": 41,
   "id": "78828ee2",
   "metadata": {},
   "outputs": [
    {
     "data": {
      "text/plain": [
       "{'b', 'd', 'l', 'm', 'r', 'z'}"
      ]
     },
     "execution_count": 41,
     "metadata": {},
     "output_type": "execute_result"
    }
   ],
   "source": [
    "a ^ b"
   ]
  }
 ],
 "metadata": {
  "kernelspec": {
   "display_name": "Python 3 (ipykernel)",
   "language": "python",
   "name": "python3"
  },
  "language_info": {
   "codemirror_mode": {
    "name": "ipython",
    "version": 3
   },
   "file_extension": ".py",
   "mimetype": "text/x-python",
   "name": "python",
   "nbconvert_exporter": "python",
   "pygments_lexer": "ipython3",
   "version": "3.9.12"
  }
 },
 "nbformat": 4,
 "nbformat_minor": 5
}
